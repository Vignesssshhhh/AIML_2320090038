{
  "nbformat": 4,
  "nbformat_minor": 0,
  "metadata": {
    "colab": {
      "provenance": []
    },
    "kernelspec": {
      "name": "python3",
      "display_name": "Python 3"
    },
    "language_info": {
      "name": "python"
    }
  },
  "cells": [
    {
      "cell_type": "code",
      "execution_count": null,
      "metadata": {
        "colab": {
          "base_uri": "https://localhost:8080/"
        },
        "id": "nY0lqx33y6i6",
        "outputId": "26d6267e-10bf-4126-95ca-599e467b5206"
      },
      "outputs": [
        {
          "output_type": "stream",
          "name": "stdout",
          "text": [
            "Hello, World!\n"
          ]
        }
      ],
      "source": [
        "print ('Hello, World!')"
      ]
    },
    {
      "cell_type": "code",
      "source": [
        "print (\"hello, world!\")\n",
        "0+1+0+1+1+9+5+0"
      ],
      "metadata": {
        "colab": {
          "base_uri": "https://localhost:8080/"
        },
        "id": "_ufjmGt90GOs",
        "outputId": "dc62faa7-a7c7-4e40-beae-3b1bd9e25f5f"
      },
      "execution_count": null,
      "outputs": [
        {
          "output_type": "stream",
          "name": "stdout",
          "text": [
            "hello, world!\n"
          ]
        },
        {
          "output_type": "execute_result",
          "data": {
            "text/plain": [
              "17"
            ]
          },
          "metadata": {},
          "execution_count": 8
        }
      ]
    },
    {
      "cell_type": "code",
      "source": [
        "2*3*7*4*5"
      ],
      "metadata": {
        "colab": {
          "base_uri": "https://localhost:8080/"
        },
        "id": "XpfWYYJQ0y6I",
        "outputId": "115717d5-21bd-4e63-92c3-a116c1e1f271"
      },
      "execution_count": null,
      "outputs": [
        {
          "output_type": "execute_result",
          "data": {
            "text/plain": [
              "840"
            ]
          },
          "metadata": {},
          "execution_count": 9
        }
      ]
    },
    {
      "cell_type": "code",
      "source": [
        "1-5-3-7-5"
      ],
      "metadata": {
        "colab": {
          "base_uri": "https://localhost:8080/"
        },
        "id": "Q7mfh-qg08qD",
        "outputId": "bff77d03-eba3-4b44-8e2b-d114422279d8"
      },
      "execution_count": null,
      "outputs": [
        {
          "output_type": "execute_result",
          "data": {
            "text/plain": [
              "-19"
            ]
          },
          "metadata": {},
          "execution_count": 10
        }
      ]
    },
    {
      "cell_type": "code",
      "source": [
        "17/7"
      ],
      "metadata": {
        "colab": {
          "base_uri": "https://localhost:8080/"
        },
        "id": "VbZAnnpO1CWX",
        "outputId": "0dd1b614-788e-4ed4-fe33-619c1ccd926c"
      },
      "execution_count": null,
      "outputs": [
        {
          "output_type": "execute_result",
          "data": {
            "text/plain": [
              "2.4285714285714284"
            ]
          },
          "metadata": {},
          "execution_count": 11
        }
      ]
    },
    {
      "cell_type": "code",
      "source": [
        "x=18\n",
        "y=\"vignesh\"\n",
        "print(x)\n",
        "print(y)"
      ],
      "metadata": {
        "colab": {
          "base_uri": "https://localhost:8080/"
        },
        "id": "ox3-cwHq1nS6",
        "outputId": "9998f393-1860-4e37-fbd4-7ebc752db148"
      },
      "execution_count": null,
      "outputs": [
        {
          "output_type": "stream",
          "name": "stdout",
          "text": [
            "18\n",
            "vignesh\n"
          ]
        }
      ]
    },
    {
      "cell_type": "code",
      "source": [
        "x=str(3)\n",
        "y=int(3)\n",
        "z=float(3)\n",
        "print(x)\n",
        "print(y)\n",
        "print(z)"
      ],
      "metadata": {
        "colab": {
          "base_uri": "https://localhost:8080/"
        },
        "id": "-pxfIvC72AmV",
        "outputId": "8ee5eb33-3b3d-4778-d830-86d4c3a1b84f"
      },
      "execution_count": null,
      "outputs": [
        {
          "output_type": "stream",
          "name": "stdout",
          "text": [
            "3\n",
            "3\n",
            "3.0\n"
          ]
        }
      ]
    },
    {
      "cell_type": "code",
      "source": [
        "x=18\n",
        "y=\"vignesh\"\n",
        "print(type(x))\n",
        "print(type(y))"
      ],
      "metadata": {
        "colab": {
          "base_uri": "https://localhost:8080/"
        },
        "id": "1gSKAeeP3ssG",
        "outputId": "9f6cc6a5-ff3e-4b7e-f079-f249f208d102"
      },
      "execution_count": null,
      "outputs": [
        {
          "output_type": "stream",
          "name": "stdout",
          "text": [
            "<class 'int'>\n",
            "<class 'str'>\n"
          ]
        }
      ]
    },
    {
      "cell_type": "code",
      "source": [
        "x='vignesh'\n",
        "x=\"vignesh\"\n",
        "print(x)\n",
        "x=18\n"
      ],
      "metadata": {
        "colab": {
          "base_uri": "https://localhost:8080/"
        },
        "id": "-iI7oCLe41Ux",
        "outputId": "746de376-69d8-4009-c19d-db6187cd7f41"
      },
      "execution_count": null,
      "outputs": [
        {
          "output_type": "stream",
          "name": "stdout",
          "text": [
            "vignesh\n"
          ]
        }
      ]
    },
    {
      "cell_type": "code",
      "source": [
        "a=18\n",
        "A=\"vignesh\""
      ],
      "metadata": {
        "id": "yeQ3pDCN5_Ba"
      },
      "execution_count": null,
      "outputs": []
    },
    {
      "cell_type": "code",
      "source": [
        "myvar = \"vignesh\"\n",
        "my_var = \"vignesh\"\n",
        "_my_var =  \"vignesh\"\n",
        "myVar = \"vignesh\"\n",
        "MYVAR = \"vignesh\"\n",
        "myvar2 = \"vignesh\"\n"
      ],
      "metadata": {
        "id": "ZLxjZTCM6DKw"
      },
      "execution_count": null,
      "outputs": []
    },
    {
      "cell_type": "code",
      "source": [
        "x,y,z = \"orange\", \"banana\", \"Cherry\"\n",
        "print(x)\n",
        "print(y)\n",
        "print(z)"
      ],
      "metadata": {
        "colab": {
          "base_uri": "https://localhost:8080/"
        },
        "id": "DnXqFcLU6dMc",
        "outputId": "c9a1510d-1af0-4a67-c994-338706e0ec0a"
      },
      "execution_count": null,
      "outputs": [
        {
          "output_type": "stream",
          "name": "stdout",
          "text": [
            "orange\n",
            "banana\n",
            "Cherry\n"
          ]
        }
      ]
    },
    {
      "cell_type": "code",
      "source": [
        "x=_y=z=c_=d5=s,=q=G=\"orange\"\n",
        "print(x)\n",
        "print(y)\n",
        "print(z)\n",
        "print(c)\n",
        "print(d)\n",
        "print(s)\n",
        "print(q)\n",
        "print(g)"
      ],
      "metadata": {
        "colab": {
          "base_uri": "https://localhost:8080/",
          "height": 211
        },
        "id": "oVl6e9ci7BpQ",
        "outputId": "cbe6294c-b696-42b8-832e-02ad630d9041"
      },
      "execution_count": null,
      "outputs": [
        {
          "output_type": "error",
          "ename": "ValueError",
          "evalue": "too many values to unpack (expected 1)",
          "traceback": [
            "\u001b[0;31m---------------------------------------------------------------------------\u001b[0m",
            "\u001b[0;31mValueError\u001b[0m                                Traceback (most recent call last)",
            "\u001b[0;32m<ipython-input-32-18dbe73f2a78>\u001b[0m in \u001b[0;36m<cell line: 1>\u001b[0;34m()\u001b[0m\n\u001b[0;32m----> 1\u001b[0;31m \u001b[0mx\u001b[0m\u001b[0;34m=\u001b[0m\u001b[0m_y\u001b[0m\u001b[0;34m=\u001b[0m\u001b[0mz\u001b[0m\u001b[0;34m=\u001b[0m\u001b[0mc_\u001b[0m\u001b[0;34m=\u001b[0m\u001b[0md5\u001b[0m\u001b[0;34m=\u001b[0m\u001b[0ms\u001b[0m\u001b[0;34m,\u001b[0m\u001b[0;34m=\u001b[0m\u001b[0mq\u001b[0m\u001b[0;34m=\u001b[0m\u001b[0mG\u001b[0m\u001b[0;34m=\u001b[0m\u001b[0;34m\"orange\"\u001b[0m\u001b[0;34m\u001b[0m\u001b[0;34m\u001b[0m\u001b[0m\n\u001b[0m\u001b[1;32m      2\u001b[0m \u001b[0mprint\u001b[0m\u001b[0;34m(\u001b[0m\u001b[0mx\u001b[0m\u001b[0;34m)\u001b[0m\u001b[0;34m\u001b[0m\u001b[0;34m\u001b[0m\u001b[0m\n\u001b[1;32m      3\u001b[0m \u001b[0mprint\u001b[0m\u001b[0;34m(\u001b[0m\u001b[0my\u001b[0m\u001b[0;34m)\u001b[0m\u001b[0;34m\u001b[0m\u001b[0;34m\u001b[0m\u001b[0m\n\u001b[1;32m      4\u001b[0m \u001b[0mprint\u001b[0m\u001b[0;34m(\u001b[0m\u001b[0mz\u001b[0m\u001b[0;34m)\u001b[0m\u001b[0;34m\u001b[0m\u001b[0;34m\u001b[0m\u001b[0m\n\u001b[1;32m      5\u001b[0m \u001b[0mprint\u001b[0m\u001b[0;34m(\u001b[0m\u001b[0mc\u001b[0m\u001b[0;34m)\u001b[0m\u001b[0;34m\u001b[0m\u001b[0;34m\u001b[0m\u001b[0m\n",
            "\u001b[0;31mValueError\u001b[0m: too many values to unpack (expected 1)"
          ]
        }
      ]
    },
    {
      "cell_type": "code",
      "source": [
        "fruits = [\"orange\", \"banana\", \"apple\"]\n",
        "x,y,z = fruits\n",
        "print(x)\n",
        "print(y)\n",
        "print(z)\n"
      ],
      "metadata": {
        "colab": {
          "base_uri": "https://localhost:8080/"
        },
        "id": "TWUqmZBo9JjH",
        "outputId": "f7adce3a-32f2-4dbb-b05f-17598aef1171"
      },
      "execution_count": null,
      "outputs": [
        {
          "output_type": "stream",
          "name": "stdout",
          "text": [
            "orange\n",
            "banana\n",
            "apple\n"
          ]
        }
      ]
    },
    {
      "cell_type": "code",
      "source": [
        "fruits = {\"orange\", \"banana\", \"apple\"}\n",
        "x,y,z = fruits\n",
        "print(x)\n",
        "print(y)\n",
        "print(z)"
      ],
      "metadata": {
        "colab": {
          "base_uri": "https://localhost:8080/"
        },
        "id": "zt1E7vP5_KUB",
        "outputId": "453b6c22-1ea6-4f6a-ca31-2279b5fd67c8"
      },
      "execution_count": null,
      "outputs": [
        {
          "output_type": "stream",
          "name": "stdout",
          "text": [
            "banana\n",
            "orange\n",
            "apple\n"
          ]
        }
      ]
    },
    {
      "cell_type": "code",
      "source": [
        "fruits = (\"orange\", \"banana\", \"apple\")\n",
        "x,y,z = fruits\n",
        "print(x)\n",
        "print(y)\n",
        "print(z)"
      ],
      "metadata": {
        "colab": {
          "base_uri": "https://localhost:8080/"
        },
        "id": "Loy_lHZK9zSp",
        "outputId": "ff53bb8b-cd13-496d-f73f-00223ac4467d"
      },
      "execution_count": null,
      "outputs": [
        {
          "output_type": "stream",
          "name": "stdout",
          "text": [
            "orange\n",
            "banana\n",
            "apple\n"
          ]
        }
      ]
    },
    {
      "cell_type": "code",
      "source": [
        "fruits = {\"orange\", \"banana\", \"apple\"}\n",
        "x,y,z,i = fruits\n",
        "print(x)\n",
        "print(y)\n",
        "print(z)\n",
        "print(i)"
      ],
      "metadata": {
        "colab": {
          "base_uri": "https://localhost:8080/",
          "height": 211
        },
        "id": "6qfZqQQYAJ3O",
        "outputId": "9784d06e-2d2e-4bb5-a38c-a280d5d60aab"
      },
      "execution_count": null,
      "outputs": [
        {
          "output_type": "error",
          "ename": "ValueError",
          "evalue": "not enough values to unpack (expected 4, got 3)",
          "traceback": [
            "\u001b[0;31m---------------------------------------------------------------------------\u001b[0m",
            "\u001b[0;31mValueError\u001b[0m                                Traceback (most recent call last)",
            "\u001b[0;32m<ipython-input-38-0a94fbdb5085>\u001b[0m in \u001b[0;36m<cell line: 2>\u001b[0;34m()\u001b[0m\n\u001b[1;32m      1\u001b[0m \u001b[0mfruits\u001b[0m \u001b[0;34m=\u001b[0m \u001b[0;34m{\u001b[0m\u001b[0;34m\"orange\"\u001b[0m\u001b[0;34m,\u001b[0m \u001b[0;34m\"banana\"\u001b[0m\u001b[0;34m,\u001b[0m \u001b[0;34m\"apple\"\u001b[0m\u001b[0;34m}\u001b[0m\u001b[0;34m\u001b[0m\u001b[0;34m\u001b[0m\u001b[0m\n\u001b[0;32m----> 2\u001b[0;31m \u001b[0mx\u001b[0m\u001b[0;34m,\u001b[0m\u001b[0my\u001b[0m\u001b[0;34m,\u001b[0m\u001b[0mz\u001b[0m\u001b[0;34m,\u001b[0m\u001b[0mi\u001b[0m \u001b[0;34m=\u001b[0m \u001b[0mfruits\u001b[0m\u001b[0;34m\u001b[0m\u001b[0;34m\u001b[0m\u001b[0m\n\u001b[0m\u001b[1;32m      3\u001b[0m \u001b[0mprint\u001b[0m\u001b[0;34m(\u001b[0m\u001b[0mx\u001b[0m\u001b[0;34m)\u001b[0m\u001b[0;34m\u001b[0m\u001b[0;34m\u001b[0m\u001b[0m\n\u001b[1;32m      4\u001b[0m \u001b[0mprint\u001b[0m\u001b[0;34m(\u001b[0m\u001b[0my\u001b[0m\u001b[0;34m)\u001b[0m\u001b[0;34m\u001b[0m\u001b[0;34m\u001b[0m\u001b[0m\n\u001b[1;32m      5\u001b[0m \u001b[0mprint\u001b[0m\u001b[0;34m(\u001b[0m\u001b[0mz\u001b[0m\u001b[0;34m)\u001b[0m\u001b[0;34m\u001b[0m\u001b[0;34m\u001b[0m\u001b[0m\n",
            "\u001b[0;31mValueError\u001b[0m: not enough values to unpack (expected 4, got 3)"
          ]
        }
      ]
    },
    {
      "cell_type": "code",
      "source": [
        "thisdict = {\n",
        "    \"brand\" : \"Ford\",\n",
        "    \"model\" : \"Mustang\",\n",
        "    \"year\"  : 1964\n",
        "}"
      ],
      "metadata": {
        "id": "hs9OkLssCLXP"
      },
      "execution_count": null,
      "outputs": []
    },
    {
      "cell_type": "code",
      "source": [
        "x = \"python \"\n",
        "y = \"is \"\n",
        "z = \"awesome\"\n",
        "print(x + y + z)"
      ],
      "metadata": {
        "colab": {
          "base_uri": "https://localhost:8080/"
        },
        "id": "MdTWMK5-DVYb",
        "outputId": "7db72064-8cec-4cba-9cdd-55371bb9f7a2"
      },
      "execution_count": null,
      "outputs": [
        {
          "output_type": "stream",
          "name": "stdout",
          "text": [
            "python is awesome\n"
          ]
        }
      ]
    },
    {
      "cell_type": "code",
      "source": [
        "import sys\n",
        "print(sys.version)\n"
      ],
      "metadata": {
        "colab": {
          "base_uri": "https://localhost:8080/"
        },
        "id": "gQAmOjLfD30c",
        "outputId": "63daae18-a8d5-4625-c343-c165a99a0c53"
      },
      "execution_count": null,
      "outputs": [
        {
          "output_type": "stream",
          "name": "stdout",
          "text": [
            "3.10.12 (main, Mar 22 2024, 16:50:05) [GCC 11.4.0]\n"
          ]
        }
      ]
    },
    {
      "cell_type": "code",
      "source": [
        "import sys as vignesh\n",
        "print(vignesh.version)"
      ],
      "metadata": {
        "colab": {
          "base_uri": "https://localhost:8080/"
        },
        "id": "y-xunBj8EQZz",
        "outputId": "765bc0b2-b078-4ad9-ae1d-2084b726413c"
      },
      "execution_count": null,
      "outputs": [
        {
          "output_type": "stream",
          "name": "stdout",
          "text": [
            "3.10.12 (main, Mar 22 2024, 16:50:05) [GCC 11.4.0]\n"
          ]
        }
      ]
    },
    {
      "cell_type": "code",
      "source": [
        "a=200\n",
        "b=33\n",
        "if b > a:\n",
        "  print (\"b is greater than a \")\n",
        "  elif a == b:\n",
        "    print(\"a and b are equal\")\n",
        "    else :\n",
        "      print(\" a is greater than b\")"
      ],
      "metadata": {
        "id": "M4f-SQe4GQmf"
      },
      "execution_count": null,
      "outputs": []
    },
    {
      "cell_type": "code",
      "source": [
        "from collections import deque\n",
        "def bfs(g,s):\n",
        "  q = deque([s])\n",
        "  v = set()\n",
        "  v.add(s)\n",
        "  while q:\n",
        "    n = q.popleft()\n",
        "    print(n,end=\" \")\n",
        "    for i in g[n]:\n",
        "      if i not in v:\n",
        "        v.add(i)\n",
        "        q.append(i)\n",
        "\n",
        "g={'A':['B','C'],\n",
        "   'B':['D','E'],\n",
        "   'C':['F'],\n",
        "   'D':[],\n",
        "   'E':[],\n",
        "   'F':[]\n",
        "   }\n",
        "bfs(g,'A')"
      ],
      "metadata": {
        "colab": {
          "base_uri": "https://localhost:8080/"
        },
        "id": "iwkBI0vy2FPA",
        "outputId": "ccb28a04-83b8-4372-e6d1-0c6d63325ed7"
      },
      "execution_count": null,
      "outputs": [
        {
          "output_type": "stream",
          "name": "stdout",
          "text": [
            "A B C D E F "
          ]
        }
      ]
    },
    {
      "cell_type": "code",
      "source": [
        "class Base1:\n",
        "    def __init__(self):\n",
        "        self._p = 78\n",
        "class Derived(Base1):\n",
        "    def __init__(self):\n",
        "\n",
        "        Base1.__init__(self)\n",
        "        print (\"We will call the protected member of base class: \",\n",
        "            self._p)\n",
        "\n",
        "        self._p = 433\n",
        "        print (\"we will call the modified protected member outside the class: \",\n",
        "            self._p)\n",
        "\n",
        "obj_1 = Derived()\n",
        "\n",
        "obj_2 = Base1()\n",
        "print (\"Access the protected member of obj_1: \", obj_1._p)\n",
        "print (\"Access the protected member of obj_2: \", obj_2._p)"
      ],
      "metadata": {
        "colab": {
          "base_uri": "https://localhost:8080/"
        },
        "id": "rmypihVu8xED",
        "outputId": "a26f6348-2315-4063-ae68-f29e591382e4"
      },
      "execution_count": null,
      "outputs": [
        {
          "output_type": "stream",
          "name": "stdout",
          "text": [
            "We will call the protected member of base class:  78\n",
            "we will call the modified protected member outside the class:  433\n",
            "Access the protected member of obj_1:  433\n",
            "Access the protected member of obj_2:  78\n"
          ]
        }
      ]
    },
    {
      "cell_type": "code",
      "source": [
        "class Graph:\n",
        "    def __init__(self):\n",
        "        self.graph = {}\n",
        "\n",
        "    def add_edge(self, u, v):\n",
        "        if u not in self.graph:\n",
        "            self.graph[u] = []\n",
        "        self.graph[u].append(v)\n",
        "\n",
        "    def dfs(self, start):\n",
        "        visited = set()\n",
        "\n",
        "        def dfs_util(node):\n",
        "            visited.add(node)\n",
        "            print(node)\n",
        "\n",
        "            for neighbor in self.graph.get(node, []):\n",
        "                if neighbor not in visited:\n",
        "                    dfs_util(neighbor)\n",
        "\n",
        "        dfs_util(start)\n",
        "\n",
        "g = Graph()\n",
        "g.add_edge(0, 1)\n",
        "g.add_edge(0, 2)\n",
        "g.add_edge(1, 2)\n",
        "g.add_edge(2, 0)\n",
        "g.add_edge(2, 3)\n",
        "g.add_edge(3, 3)\n",
        "\n",
        "print(\"Depth First Traversal:\")\n",
        "g.dfs(2)"
      ],
      "metadata": {
        "colab": {
          "base_uri": "https://localhost:8080/"
        },
        "id": "bfJhoDghB3be",
        "outputId": "52965efa-8165-4f1d-d100-632931243a8e"
      },
      "execution_count": null,
      "outputs": [
        {
          "output_type": "stream",
          "name": "stdout",
          "text": [
            "Depth First Traversal:\n",
            "2\n",
            "0\n",
            "1\n",
            "3\n"
          ]
        }
      ]
    },
    {
      "cell_type": "code",
      "source": [
        "from collections import defaultdict\n",
        "\n",
        "class Graph:\n",
        "\n",
        "    def __init__(self,vertices):\n",
        "\n",
        "        self.V = vertices\n",
        "\n",
        "        self.graph = defaultdict(list)\n",
        "\n",
        "    def addEdge(self,u,v):\n",
        "        self.graph[u].append(v)\n",
        "\n",
        "\n",
        "    def DLS(self,src,target,maxDepth):\n",
        "\n",
        "        if src == target : return True\n",
        "\n",
        "        if maxDepth <= 0 : return False\n",
        "\n",
        "        for i in self.graph[src]:\n",
        "                if(self.DLS(i,target,maxDepth-1)):\n",
        "                    return True\n",
        "        return False\n",
        "\n",
        "    def IDDFS(self,src, target, maxDepth):\n",
        "\n",
        "        for i in range(maxDepth):\n",
        "            if (self.DLS(src, target, i)):\n",
        "                return True\n",
        "        return False\n",
        "g = Graph (7);\n",
        "g.addEdge(0, 1)\n",
        "g.addEdge(0, 2)\n",
        "g.addEdge(1, 3)\n",
        "g.addEdge(1, 4)\n",
        "g.addEdge(2, 5)\n",
        "g.addEdge(2, 6)\n",
        "\n",
        "target = 6; maxDepth = 3; src = 0\n",
        "\n",
        "if g.IDDFS(src, target, maxDepth) == True:\n",
        "    print (\"Target is reachable from source \" +\n",
        "        \"within max depth\")\n",
        "else :\n",
        "    print (\"Target is NOT reachable from source \" +\n",
        "        \"within max depth\")\n"
      ],
      "metadata": {
        "colab": {
          "base_uri": "https://localhost:8080/"
        },
        "id": "GW6_r0KoFVa7",
        "outputId": "5c0dbb47-50cb-414c-8950-2f94438f9760"
      },
      "execution_count": null,
      "outputs": [
        {
          "output_type": "stream",
          "name": "stdout",
          "text": [
            "Target is reachable from source within max depth\n"
          ]
        }
      ]
    },
    {
      "cell_type": "code",
      "source": [
        "from matplotlib import pyplot as plt\n",
        "\n",
        " #Plotting to our canvas\n",
        "\n",
        "plt.plot([1,2,3],[4,5,1])\n",
        "\n",
        " #Showing what we plotted\n",
        "\n",
        "plt.show()"
      ],
      "metadata": {
        "colab": {
          "base_uri": "https://localhost:8080/",
          "height": 430
        },
        "id": "t2Ta2Fgj_oXN",
        "outputId": "77dcbf0b-d11f-47ae-dd6d-bb07e14a92b3"
      },
      "execution_count": null,
      "outputs": [
        {
          "output_type": "display_data",
          "data": {
            "text/plain": [
              "<Figure size 640x480 with 1 Axes>"
            ],
            "image/png": "[encoded data removed]"
          },
          "metadata": {}
        }
      ]
    },
    {
      "cell_type": "code",
      "source": [
        "x = [5,2,7]\n",
        "y = [2,16,4]\n",
        "plt.plot(x,y)\n",
        "plt.title('Info')\n",
        "plt.ylabel('Y axis')\n",
        "plt.xlabel('X axis')\n",
        "plt.show()"
      ],
      "metadata": {
        "colab": {
          "base_uri": "https://localhost:8080/",
          "height": 472
        },
        "id": "lDn_ruBy_u1c",
        "outputId": "9b1842c1-77ea-45a2-a5a8-c7b456692c49"
      },
      "execution_count": null,
      "outputs": [
        {
          "output_type": "display_data",
          "data": {
            "text/plain": [
              "<Figure size 640x480 with 1 Axes>"
            ],
            "image/png": "[encoded data removed]"
          },
          "metadata": {}
        }
      ]
    },
    {
      "cell_type": "code",
      "source": [
        "# Python program to implement map coloring using backtracking\n",
        "\n",
        "def is_safe(graph, color, node, c):\n",
        "    \"\"\"Check if it's safe to color node with color c.\"\"\"\n",
        "    for neighbor in graph[node]:\n",
        "        if color[neighbor] == c:\n",
        "            return False\n",
        "    return True\n",
        "\n",
        "def map_coloring_util(graph, color, node, num_colors):\n",
        "    \"\"\"Utility function to solve the map coloring problem using backtracking.\"\"\"\n",
        "    if node == len(graph):\n",
        "        return True\n",
        "\n",
        "    for c in range(1, num_colors + 1):\n",
        "        if is_safe(graph, color, node, c):\n",
        "            color[node] = c\n",
        "            if map_coloring_util(graph, color, node + 1, num_colors):\n",
        "                return True\n",
        "            color[node] = 0  # Backtrack\n",
        "\n",
        "    return False\n",
        "\n",
        "def map_coloring(graph, num_colors):\n",
        "    \"\"\"Function to solve the map coloring problem.\"\"\"\n",
        "    color = [0] * len(graph)\n",
        "\n",
        "    if map_coloring_util(graph, color, 0, num_colors):\n",
        "        return color\n",
        "    else:\n",
        "        return None\n",
        "\n",
        "# Example usage:\n",
        "\n",
        "# Representing the map as a graph:\n",
        "# Adjacency list representation of the graph\n",
        "graph = {\n",
        "    0: [1, 2, 3],\n",
        "    1: [0, 2],\n",
        "    2: [0, 1, 3],\n",
        "    3: [0, 2]\n",
        "}\n",
        "\n",
        "num_colors = 3\n",
        "result = map_coloring(graph, num_colors)\n",
        "\n",
        "if result:\n",
        "    print(\"Solution exists: \")\n",
        "    print(result)\n",
        "else:\n",
        "    print(\"No solution exists.\")\n"
      ],
      "metadata": {
        "id": "jM04bWNMHd5_",
        "outputId": "8f3f1d33-29cd-4170-d5ae-49c7776b4bc5",
        "colab": {
          "base_uri": "https://localhost:8080/"
        }
      },
      "execution_count": null,
      "outputs": [
        {
          "output_type": "stream",
          "name": "stdout",
          "text": [
            "Solution exists: \n",
            "[1, 2, 3, 2]\n"
          ]
        }
      ]
    }
  ]
}