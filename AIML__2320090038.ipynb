{
  "nbformat": 4,
  "nbformat_minor": 0,
  "metadata": {
    "colab": {
      "provenance": []
    },
    "kernelspec": {
      "name": "python3",
      "display_name": "Python 3"
    },
    "language_info": {
      "name": "python"
    }
  },
  "cells": [
    {
      "cell_type": "code",
      "execution_count": null,
      "metadata": {
        "colab": {
          "base_uri": "https://localhost:8080/"
        },
        "id": "2D4_tTx8qhAY",
        "outputId": "01a6e5ba-2b77-4fbb-d4b7-ce80e6006e0d"
      },
      "outputs": [
        {
          "output_type": "stream",
          "name": "stdout",
          "text": [
            "BFS Order: ['A', 'B', 'C', 'D', 'E', 'F']\n"
          ]
        }
      ],
      "source": [
        "from collections import deque\n",
        "\n",
        "def bfs(graph, start):\n",
        "    visited = set()\n",
        "    queue = deque([start])\n",
        "    bfs_order = []\n",
        "\n",
        "    while queue:\n",
        "        node = queue.popleft()\n",
        "\n",
        "        if node not in visited:\n",
        "            visited.add(node)\n",
        "            bfs_order.append(node)\n",
        "\n",
        "            for neighbor in graph[node]:\n",
        "                if neighbor not in visited:\n",
        "                    queue.append(neighbor)\n",
        "\n",
        "    return bfs_order\n",
        "\n",
        "graph = {\n",
        "    'A': ['B', 'C'],\n",
        "    'B': ['A', 'D', 'E'],\n",
        "    'C': ['A', 'F'],\n",
        "    'D': ['B'],\n",
        "    'E': ['B', 'F'],\n",
        "    'F': ['C', 'E']\n",
        "}\n",
        "\n",
        "start_node = 'A'\n",
        "bfs_result = bfs(graph, start_node)\n",
        "print(\"BFS Order:\", bfs_result)\n"
      ]
    },
    {
      "cell_type": "markdown",
      "source": [
        "BFS"
      ],
      "metadata": {
        "id": "7pS7RlVMtE2a"
      }
    },
    {
      "cell_type": "markdown",
      "source": [],
      "metadata": {
        "id": "V6H_kpmJs_cz"
      }
    },
    {
      "cell_type": "code",
      "source": [
        "def dfs(graph, start):\n",
        "    visited = []\n",
        "    stack = [start]\n",
        "\n",
        "    while stack:\n",
        "        node = stack.pop()\n",
        "\n",
        "        if node not in visited:\n",
        "            visited.append(node)\n",
        "            for neighbor in reversed(graph[node]):\n",
        "                if neighbor not in visited:\n",
        "                    stack.append(neighbor)\n",
        "\n",
        "    return visited\n",
        "graph = {\n",
        "    'A': ['B', 'C'],\n",
        "    'B': ['D', 'E'],\n",
        "    'C': ['F'],\n",
        "    'D': [],\n",
        "    'E': ['F'],\n",
        "    'F': []\n",
        "}\n",
        "start_node = 'A'\n",
        "dfs_result = dfs(graph, start_node)\n",
        "print(\"DFS Order:\", dfs_result)\n"
      ],
      "metadata": {
        "colab": {
          "base_uri": "https://localhost:8080/"
        },
        "id": "W9LxjpuWrpcq",
        "outputId": "90cc0cde-53c6-46d2-dca5-c89bffd77636"
      },
      "execution_count": null,
      "outputs": [
        {
          "output_type": "stream",
          "name": "stdout",
          "text": [
            "DFS Order: ['A', 'B', 'D', 'E', 'F', 'C']\n"
          ]
        }
      ]
    },
    {
      "cell_type": "markdown",
      "source": [
        "DFS"
      ],
      "metadata": {
        "id": "WQ2gsuQJtID9"
      }
    },
    {
      "cell_type": "code",
      "source": [
        "def dfs_limited(graph, node, limit, visited=None):\n",
        "    if visited is None:\n",
        "        visited = []\n",
        "\n",
        "    if node not in visited:\n",
        "        visited.append(node)\n",
        "\n",
        "        if limit > 0:\n",
        "            for neighbor in graph[node]:\n",
        "                dfs_limited(graph, neighbor, limit - 1, visited)\n",
        "\n",
        "    return visited\n",
        "\n",
        "def iterative_deepening_search(graph, start, max_depth):\n",
        "    for depth in range(max_depth + 1):\n",
        "        visited = []\n",
        "        result = dfs_limited(graph, start, depth, visited)\n",
        "        print(f\"Depth {depth}: {result}\")\n",
        "        if start in result:\n",
        "            return result\n",
        "    return None\n",
        "\n",
        "graph = {\n",
        "    'A': ['B', 'C'],\n",
        "    'B': ['D', 'E'],\n",
        "    'C': ['F'],\n",
        "    'D': [],\n",
        "    'E': ['F'],\n",
        "    'F': []\n",
        "}\n",
        "\n",
        "start_node = 'A'\n",
        "max_depth = 3\n",
        "ids_result = iterative_deepening_search(graph, start_node, max_depth)\n",
        "print(\"Final IDS Order:\", ids_result)\n"
      ],
      "metadata": {
        "colab": {
          "base_uri": "https://localhost:8080/"
        },
        "id": "oeYZ-i4ttM61",
        "outputId": "02b5adf8-47c6-4e11-fd9f-d1b7bd967299"
      },
      "execution_count": null,
      "outputs": [
        {
          "output_type": "stream",
          "name": "stdout",
          "text": [
            "Depth 0: ['A']\n",
            "Final IDS Order: ['A']\n"
          ]
        }
      ]
    },
    {
      "cell_type": "markdown",
      "source": [
        "ITERATIVE DEEPENING SEARCH"
      ],
      "metadata": {
        "id": "xzj8jfwQ22lY"
      }
    },
    {
      "cell_type": "code",
      "source": [
        "import heapq\n",
        "\n",
        "def least_cost_search(graph, start, goal):\n",
        "    priority_queue = [(0, start, [])]\n",
        "    visited = set()\n",
        "\n",
        "    while priority_queue:\n",
        "        cost, node, path = heapq.heappop(priority_queue)\n",
        "\n",
        "        if node in visited:\n",
        "            continue\n",
        "\n",
        "        visited.add(node)\n",
        "        path = path + [node]\n",
        "\n",
        "        if node == goal:\n",
        "            return path, cost\n",
        "\n",
        "        for neighbor, edge_cost in graph.get(node, []):\n",
        "            if neighbor not in visited:\n",
        "                total_cost = cost + edge_cost\n",
        "                heapq.heappush(priority_queue, (total_cost, neighbor, path))\n",
        "\n",
        "    return None, float('inf')\n",
        "\n",
        "graph = {\n",
        "    'A': [('B', 1), ('C', 4)],\n",
        "    'B': [('D', 2), ('E', 5)],\n",
        "    'C': [('F', 3)],\n",
        "    'D': [],\n",
        "    'E': [('F', 1)],\n",
        "    'F': []\n",
        "}\n",
        "\n",
        "start_node = 'A'\n",
        "goal_node = 'F'\n",
        "path, cost = least_cost_search(graph, start_node, goal_node)\n",
        "print(f\"Path: {path}, Cost: {cost}\")\n"
      ],
      "metadata": {
        "colab": {
          "base_uri": "https://localhost:8080/"
        },
        "id": "w0hX4S902JSu",
        "outputId": "fa34c119-d50c-494d-bf31-564d8a846e7b"
      },
      "execution_count": null,
      "outputs": [
        {
          "output_type": "stream",
          "name": "stdout",
          "text": [
            "Path: ['A', 'B', 'E', 'F'], Cost: 7\n"
          ]
        }
      ]
    },
    {
      "cell_type": "markdown",
      "source": [
        "LEAST COST SEARCH"
      ],
      "metadata": {
        "id": "-ds_Zird28yO"
      }
    },
    {
      "cell_type": "code",
      "source": [
        "import heapq\n",
        "\n",
        "def a_star_search(graph, start, goal, h):\n",
        "\n",
        "    priority_queue = [(0 + h(start), 0, start, [])]\n",
        "    visited = set()\n",
        "\n",
        "    while priority_queue:\n",
        "        estimated_cost, cost_so_far, node, path = heapq.heappop(priority_queue)\n",
        "\n",
        "        if node in visited:\n",
        "            continue\n",
        "\n",
        "        visited.add(node)\n",
        "        path = path + [node]\n",
        "\n",
        "        if node == goal:\n",
        "            return path, cost_so_far\n",
        "\n",
        "        for neighbor, edge_cost in graph.get(node, []):\n",
        "            if neighbor not in visited:\n",
        "                total_cost = cost_so_far + edge_cost\n",
        "                estimated_total_cost = total_cost + h(neighbor)\n",
        "                heapq.heappush(priority_queue, (estimated_total_cost, total_cost, neighbor, path))\n",
        "\n",
        "    return None, float('inf')\n",
        "\n",
        "    graph = {\n",
        "    'A': [('B', 1), ('C', 4)],\n",
        "    'B': [('D', 2), ('E', 5)],\n",
        "    'C': [('F', 3)],\n",
        "    'D': [],\n",
        "    'E': [('F', 1)],\n",
        "    'F': []\n",
        "}\n",
        "\n",
        "def heuristic(node):\n",
        "    h_values = {\n",
        "        'A': 7,\n",
        "        'B': 6,\n",
        "        'C': 2,\n",
        "        'D': 1,\n",
        "        'E': 0,\n",
        "        'F': 0\n",
        "    }\n",
        "    return h_values.get(node, 0)\n",
        "\n",
        "start_node = 'A'\n",
        "goal_node = 'F'\n",
        "path, cost = a_star_search(graph, start_node, goal_node, heuristic)\n",
        "print(f\"Path: {path}, Cost: {cost}\")\n"
      ],
      "metadata": {
        "colab": {
          "base_uri": "https://localhost:8080/"
        },
        "id": "Y_1ksh-G3ri1",
        "outputId": "5ec9747f-8788-4977-af72-5d6e8a43b411"
      },
      "execution_count": null,
      "outputs": [
        {
          "output_type": "stream",
          "name": "stdout",
          "text": [
            "Path: ['A', 'B', 'E', 'F'], Cost: 7\n"
          ]
        }
      ]
    },
    {
      "cell_type": "markdown",
      "source": [
        "A*search"
      ],
      "metadata": {
        "id": "cKWoSSHE4Pgt"
      }
    },
    {
      "cell_type": "code",
      "source": [
        "import heapq\n",
        "\n",
        "def best_first_search(graph, start, goal, h):\n",
        "    priority_queue = [(h(start), start, [])]\n",
        "    visited = set()\n",
        "\n",
        "    while priority_queue:\n",
        "        heuristic_value, node, path = heapq.heappop(priority_queue)\n",
        "\n",
        "        if node in visited:\n",
        "            continue\n",
        "\n",
        "        visited.add(node)\n",
        "        path = path + [node]\n",
        "\n",
        "        if node == goal:\n",
        "            return path\n",
        "\n",
        "        for neighbor, edge_cost in graph.get(node, []):\n",
        "            if neighbor not in visited:\n",
        "                heapq.heappush(priority_queue, (h(neighbor), neighbor, path))\n",
        "\n",
        "    return None\n",
        "\n",
        "graph = {\n",
        "    'A': [('B', 1), ('C', 4)],\n",
        "    'B': [('D', 2), ('E', 5)],\n",
        "    'C': [('F', 3)],\n",
        "    'D': [],\n",
        "    'E': [('F', 1)],\n",
        "    'F': []\n",
        "}\n",
        "\n",
        "def heuristic(node):\n",
        "    h_values = {\n",
        "        'A': 7,\n",
        "        'B': 6,\n",
        "        'C': 2,\n",
        "        'D': 1,\n",
        "        'E': 0,\n",
        "        'F': 0\n",
        "    }\n",
        "    return h_values.get(node, 0)\n",
        "\n",
        "start_node = 'A'\n",
        "goal_node = 'F'\n",
        "path = best_first_search(graph, start_node, goal_node, heuristic)\n",
        "print(f\"Path: {path}\")\n"
      ],
      "metadata": {
        "colab": {
          "base_uri": "https://localhost:8080/"
        },
        "id": "CYgtMPKx5mlW",
        "outputId": "3737a417-9fb0-469b-c621-0171416aab87"
      },
      "execution_count": null,
      "outputs": [
        {
          "output_type": "stream",
          "name": "stdout",
          "text": [
            "Path: ['A', 'C', 'F']\n"
          ]
        }
      ]
    },
    {
      "cell_type": "markdown",
      "source": [
        "best first search"
      ],
      "metadata": {
        "id": "Y40itB_D59aM"
      }
    },
    {
      "cell_type": "code",
      "source": [
        "MAX, MIN = 1000, -1000\n",
        "\n",
        "def minimax(depth, nodeIndex, maximizingPlayer,\n",
        "            values, alpha, beta):\n",
        "\n",
        "\n",
        "    if depth == 3:\n",
        "        return values[nodeIndex]\n",
        "\n",
        "    if maximizingPlayer:\n",
        "\n",
        "        best = MIN\n",
        "\n",
        "\n",
        "        for i in range(0, 2):\n",
        "\n",
        "            val = minimax(depth + 1, nodeIndex * 2 + i,\n",
        "                        False, values, alpha, beta)\n",
        "            best = max(best, val)\n",
        "            alpha = max(alpha, best)\n",
        "\n",
        "\n",
        "            if beta <= alpha:\n",
        "                break\n",
        "\n",
        "        return best\n",
        "\n",
        "    else:\n",
        "        best = MAX\n",
        "\n",
        "\n",
        "        for i in range(0, 2):\n",
        "\n",
        "            val = minimax(depth + 1, nodeIndex * 2 + i,\n",
        "                            True, values, alpha, beta)\n",
        "            best = min(best, val)\n",
        "            beta = min(beta, best)\n",
        "\n",
        "            if beta <= alpha:\n",
        "                break\n",
        "\n",
        "        return best\n",
        "\n",
        "#Corrected conditional to execute when script is run as main program\n",
        "if __name__ == \"__main__\":\n",
        "\n",
        "    values = [3, 5, 6, 9, 1, 2, 0, -1]\n",
        "    print(\"The optimal value is :\", minimax(0, 0, True, values, MIN, MAX))"
      ],
      "metadata": {
        "colab": {
          "base_uri": "https://localhost:8080/"
        },
        "id": "mweBZhVC9q-l",
        "outputId": "e71c65c5-a92d-4571-ca22-6d19480670a4"
      },
      "execution_count": null,
      "outputs": [
        {
          "output_type": "stream",
          "name": "stdout",
          "text": [
            "The optimal value is : 5\n"
          ]
        }
      ]
    },
    {
      "cell_type": "markdown",
      "source": [
        "ALPHA BETA"
      ],
      "metadata": {
        "id": "QZ9gD6CF-08-"
      }
    },
    {
      "cell_type": "code",
      "source": [
        "class Node:\n",
        "    def __init__(self, value=None, is_max_node=True):\n",
        "        self.value = value\n",
        "        self.children = []\n",
        "        self.is_max_node = is_max_node\n",
        "def minimax(node, depth, is_maximizing_player):\n",
        "    if not node.children or depth == 0:\n",
        "        return node.value\n",
        "    if is_maximizing_player:\n",
        "        best_value = float('-inf')\n",
        "        for child in node.children:\n",
        "            value = minimax(child, depth - 1, False)\n",
        "            best_value = max(best_value, value)\n",
        "        return best_value\n",
        "    else:\n",
        "        best_value = float('inf')\n",
        "        for child in node.children:\n",
        "            value = minimax(child, depth - 1, True)\n",
        "            best_value = min(best_value, value)\n",
        "        return best_value\n",
        "root = Node(is_max_node=True)\n",
        "min1 = Node(is_max_node=False)\n",
        "min2 = Node(is_max_node=False)\n",
        "\n",
        "leaf1 = Node(value=3, is_max_node=True)\n",
        "leaf2 = Node(value=5, is_max_node=True)\n",
        "leaf3 = Node(value=2, is_max_node=True)\n",
        "leaf4 = Node(value=9, is_max_node=True)\n",
        "\n",
        "\n",
        "min1.children = [leaf1, leaf2]\n",
        "min2.children = [leaf3, leaf4]\n",
        "root.children = [min1, min2]\n",
        "\n",
        "best_value = minimax(root, depth=2, is_maximizing_player=True)\n",
        "print(f\"The best value for the maximizer is: {best_value}\")"
      ],
      "metadata": {
        "colab": {
          "base_uri": "https://localhost:8080/"
        },
        "id": "cmHwflTs-3eM",
        "outputId": "90b82448-14eb-47d0-a1c6-46ea06ef5d38"
      },
      "execution_count": null,
      "outputs": [
        {
          "output_type": "stream",
          "name": "stdout",
          "text": [
            "The best value for the maximizer is: 3\n"
          ]
        }
      ]
    },
    {
      "cell_type": "markdown",
      "source": [
        "MIN MAX"
      ],
      "metadata": {
        "id": "SqqDBenPAq6S"
      }
    },
    {
      "cell_type": "code",
      "source": [
        "from collections import deque\n",
        "def bidirectional_search(graph, start, goal):\n",
        "    if start == goal:\n",
        "        return [start]\n",
        "    forward_queue = deque([start])\n",
        "    backward_queue = deque([goal])\n",
        "    forward_paths = {start: [start]}\n",
        "    backward_paths = {goal: [goal]}\n",
        "    forward_visited = set([start])\n",
        "    backward_visited = set([goal])\n",
        "    while forward_queue and backward_queue:\n",
        "        current_forward = forward_queue.popleft()\n",
        "        for neighbor in graph[current_forward]:\n",
        "            if neighbor in backward_visited:\n",
        "                return forward_paths[current_forward] + backward_paths[neighbor][::-1][1:]\n",
        "            if neighbor not in forward_visited:\n",
        "                forward_visited.add(neighbor)\n",
        "                forward_queue.append(neighbor)\n",
        "                forward_paths[neighbor] = forward_paths[current_forward] + [neighbor]\n",
        "        current_backward = backward_queue.popleft()\n",
        "        for neighbor in graph[current_backward]:\n",
        "            if neighbor in forward_visited:\n",
        "                return backward_paths[current_backward] + forward_paths[neighbor][::-1][1:]\n",
        "            if neighbor not in backward_visited:\n",
        "                backward_visited.add(neighbor)\n",
        "                backward_queue.append(neighbor)\n",
        "                backward_paths[neighbor] = backward_paths[current_backward] + [neighbor]\n",
        "\n",
        "    return None\n",
        "graph = {\n",
        "    'A': ['B', 'C'],\n",
        "    'B': ['A', 'D', 'E'],\n",
        "    'C': ['A', 'F'],\n",
        "    'D': ['B'],\n",
        "    'E': ['B', 'F'],\n",
        "    'F': ['C', 'E']\n",
        "}\n",
        "\n",
        "start = 'A'\n",
        "goal = 'F'\n",
        "path = bidirectional_search(graph, start, goal)\n",
        "\n",
        "print(f\" {start} to {goal}: {path}\")"
      ],
      "metadata": {
        "colab": {
          "base_uri": "https://localhost:8080/"
        },
        "id": "SeMXaCuMCsFN",
        "outputId": "3f3fa010-9f12-4932-fdf3-07dbb53faa39"
      },
      "execution_count": null,
      "outputs": [
        {
          "output_type": "stream",
          "name": "stdout",
          "text": [
            " A to F: ['F', 'A']\n"
          ]
        }
      ]
    },
    {
      "cell_type": "markdown",
      "source": [
        "BIDIRECTIONAL SEARCH CODE"
      ],
      "metadata": {
        "id": "gDSsPsXnDoww"
      }
    }
  ]
}